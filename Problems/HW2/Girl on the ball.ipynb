{
 "cells": [
  {
   "cell_type": "code",
   "execution_count": 37,
   "metadata": {},
   "outputs": [],
   "source": [
    "def read(file):\n",
    "    f = open(file)\n",
    "    n = int(f.readline())\n",
    "    hashs = []\n",
    "    for i in range(n):\n",
    "        hashs.append(list(map(int,f.readline().split())))\n",
    "    return n, hashs\n",
    "\n",
    "def hash_value(hashs,i):\n",
    "        sp = sorted(hashs, reverse = True)\n",
    "        square = sp[0]*sp[1]\n",
    "        return [square, sp + [i]] \n",
    "\n",
    "def search_max(table,key,value,n):\n",
    "    maximum = [0,0]\n",
    "    massive = lookup(table,key,n)\n",
    "    for itr in massive:\n",
    "        if itr[0] == value[0]:\n",
    "            return [itr[3],min(itr[1],itr[2] + value[2])]\n",
    "    return maximum"
   ]
  },
  {
   "cell_type": "code",
   "execution_count": 38,
   "metadata": {},
   "outputs": [],
   "source": [
    "def hash_table(n):\n",
    "    return [[] for i in range(n)]\n",
    "\n",
    "def hashed(key,n):\n",
    "    return key % n\n",
    "\n",
    "def ins(table,key,value,n):\n",
    "    square = value[0]\n",
    "    dim = value[2]\n",
    "    pos = False \n",
    "    hs = hashed(key,n)\n",
    "    a = [i for i in range(len(table[hs]))]\n",
    "    ttable = zip(a,table[hs])\n",
    "    for index, item in ttable:\n",
    "        if item[0] == square:\n",
    "            if item[2] < dim:\n",
    "                delete(table,hs,index)\n",
    "                table.append(value)\n",
    "                pos = True\n",
    "                break\n",
    "    if pos == False:\n",
    "            table[hs].append(value)\n",
    "    return 0\n"
   ]
  },
  {
   "cell_type": "code",
   "execution_count": 39,
   "metadata": {},
   "outputs": [],
   "source": [
    "def lookup(table,key,n):\n",
    "    hs = hashed(key,n)\n",
    "    return table[hs]\n",
    "\n",
    "def delete(table,hs,index):\n",
    "    del table[hs][index]\n",
    "    return 0"
   ]
  },
  {
   "cell_type": "code",
   "execution_count": 65,
   "metadata": {},
   "outputs": [],
   "source": [
    "def final(file) :\n",
    "    radius = 0\n",
    "    count = 0\n",
    "    \n",
    "    n, hashs = read(file) #hashs - hashs in a way they were readed in list\n",
    "    hash_tbl = hash_table(n) # LIST OF n LISTS\n",
    "    for i in range(n):\n",
    "        if radius <= min(hashs[i]):\n",
    "            radius = min(hashs[i])\n",
    "            count+=1\n",
    "            \n",
    "        if max(hashs[i]) <= radius:\n",
    "            continue #забил на точно ненужные ящики\n",
    "            \n",
    "        values = hash_value(hashs[i],i)\n",
    "        \n",
    "        maxx = search_max(hash_tbl,values[0],values[1],n)\n",
    "        print(maxx,'maxx')\n",
    "        if maxx[1] > radius:\n",
    "            radius = maxx[1]\n",
    "            count+=1\n",
    "        ins(hash_tbl,values[0],values[1],n) \n",
    "        print(hash_tbl,'hsh')\n",
    "    return count\n",
    "    #return 0"
   ]
  },
  {
   "cell_type": "code",
   "execution_count": 66,
   "metadata": {},
   "outputs": [
    {
     "name": "stdout",
     "output_type": "stream",
     "text": [
      "[0, 0] maxx\n",
      "[[[10, 10, 2, 0]], [], [], [], []] hsh\n",
      "[0, 3] maxx\n",
      "[[[10, 10, 2, 0], [10, 10, 1, 1]], [], [], [], []] hsh\n",
      "[0, 0] maxx\n",
      "[[[10, 10, 2, 0], [10, 10, 1, 1]], [[51, 21, 20, 2]], [], [], []] hsh\n",
      "[0, 0] maxx\n",
      "[[[10, 10, 2, 0], [10, 10, 1, 1], [90, 24, 24, 3]], [[51, 21, 20, 2]], [], [], []] hsh\n"
     ]
    },
    {
     "data": {
      "text/plain": [
       "5"
      ]
     },
     "execution_count": 66,
     "metadata": {},
     "output_type": "execute_result"
    }
   ],
   "source": [
    "final('./file.txt')"
   ]
  },
  {
   "cell_type": "code",
   "execution_count": null,
   "metadata": {},
   "outputs": [],
   "source": [
    "def final(file) :\n",
    "    method = 0\n",
    "    radius = 0\n",
    "    count = 0\n",
    "    \n",
    "    n, hashs = read(file) #hashs - hashs in a way they were readed in list\n",
    "    hash_tbl = hash_table(n) # LIST OF n LISTS\n",
    "    for i in range(n):\n",
    "        if radius <= min(hashs[i]):\n",
    "            method = 1\n",
    "            radius = min(hashs[i])\n",
    "            count+=1\n",
    "            \n",
    "        if max(hashs[i]) <= radius:\n",
    "            continue #забил на точно ненужные ящики\n",
    "            \n",
    "        values = hash_value(hashs[i],i)\n",
    "        maxx = search_max(hash_tbl,values[0],values[1],n)\n",
    "        print(maxx,'maxx')\n",
    "        if maxx[1] > radius:\n",
    "            method = 2\n",
    "            radius = maxx[1]\n",
    "            count+=1\n",
    "        ins(hash_tbl,values[0],values[1],n) \n",
    "        print(hash_tbl,'hsh')\n",
    "    return count\n",
    "    #return 0"
   ]
  },
  {
   "cell_type": "code",
   "execution_count": 70,
   "metadata": {},
   "outputs": [
    {
     "data": {
      "text/plain": [
       "0"
      ]
     },
     "execution_count": 70,
     "metadata": {},
     "output_type": "execute_result"
    }
   ],
   "source": [
    "100%1"
   ]
  },
  {
   "cell_type": "code",
   "execution_count": 72,
   "metadata": {},
   "outputs": [],
   "source": [
    "a = [5,1,10]"
   ]
  },
  {
   "cell_type": "code",
   "execution_count": 73,
   "metadata": {},
   "outputs": [],
   "source": [
    "b = sorted(a, reverse = True)"
   ]
  },
  {
   "cell_type": "code",
   "execution_count": 74,
   "metadata": {},
   "outputs": [
    {
     "data": {
      "text/plain": [
       "[10, 5, 1]"
      ]
     },
     "execution_count": 74,
     "metadata": {},
     "output_type": "execute_result"
    }
   ],
   "source": [
    "b"
   ]
  },
  {
   "cell_type": "code",
   "execution_count": null,
   "metadata": {},
   "outputs": [],
   "source": []
  }
 ],
 "metadata": {
  "kernelspec": {
   "display_name": "Python 3",
   "language": "python",
   "name": "python3"
  },
  "language_info": {
   "codemirror_mode": {
    "name": "ipython",
    "version": 3
   },
   "file_extension": ".py",
   "mimetype": "text/x-python",
   "name": "python",
   "nbconvert_exporter": "python",
   "pygments_lexer": "ipython3",
   "version": "3.7.5"
  }
 },
 "nbformat": 4,
 "nbformat_minor": 2
}
