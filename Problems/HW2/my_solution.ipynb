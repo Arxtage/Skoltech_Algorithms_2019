{
 "cells": [
  {
   "cell_type": "code",
   "execution_count": 290,
   "metadata": {},
   "outputs": [],
   "source": [
    "def hash_table(n):\n",
    "    return [[] for i in range(n)]"
   ]
  },
  {
   "cell_type": "code",
   "execution_count": 258,
   "metadata": {},
   "outputs": [
    {
     "name": "stdout",
     "output_type": "stream",
     "text": [
      "3\n"
     ]
    }
   ],
   "source": [
    "n = int(input())"
   ]
  },
  {
   "cell_type": "code",
   "execution_count": 273,
   "metadata": {},
   "outputs": [],
   "source": [
    "hash_table = [[] for x in range(100)]"
   ]
  },
  {
   "cell_type": "code",
   "execution_count": 288,
   "metadata": {},
   "outputs": [
    {
     "name": "stdout",
     "output_type": "stream",
     "text": [
      "3\n",
      "1 18 1999\n",
      "1 7 3\n",
      "3 84 4\n"
     ]
    }
   ],
   "source": [
    "n = int(input())\n",
    "\n",
    "rect= sorted(list((map(int,input().split()))))\n",
    "hash_table = [[] for x in range(rect[2]**2)]\n",
    "radius = rect[0]\n",
    "count = 1\n",
    "insert(hash_table, int((rect[1]**2 + rect[2]**2)**(1/2)), rect)\n",
    "\n",
    "for index in range(1,n):\n",
    "    rect= sorted(list((map(int,input().split()))))\n",
    "    \n",
    "    diagonal = int((rect[1]**2 + rect[2]**2)**(1/2))\n",
    "    if hash_table[diagonal]:\n",
    "        for box in sorted(hash_table[diagonal], key=lambda x: x[0],reverse=True):\n",
    "            if rect[1:] == box[1:]:\n",
    "                composed_rect = [None]*3\n",
    "                composed_rect[0] = rect[0]+box[0]\n",
    "                composed_rect[1:] = rect[1:]\n",
    "                composed_rect = sorted(composed_rect)\n",
    "                \n",
    "                if radius < composed_rect[0]:\n",
    "                    radius = composed_rect[0]\n",
    "                    count+=1\n",
    "                break\n",
    "                \n",
    "                \n",
    "    if radius < rect[0]:\n",
    "        radius = rect[0]\n",
    "        count+=1\n",
    "    insert(hash_table, diagonal, rect)"
   ]
  },
  {
   "cell_type": "code",
   "execution_count": 289,
   "metadata": {},
   "outputs": [
    {
     "data": {
      "text/plain": [
       "2"
      ]
     },
     "execution_count": 289,
     "metadata": {},
     "output_type": "execute_result"
    }
   ],
   "source": [
    "count"
   ]
  },
  {
   "cell_type": "code",
   "execution_count": 276,
   "metadata": {},
   "outputs": [
    {
     "data": {
      "text/plain": [
       "100"
      ]
     },
     "execution_count": 276,
     "metadata": {},
     "output_type": "execute_result"
    }
   ],
   "source": [
    "len(hash_table)"
   ]
  },
  {
   "cell_type": "code",
   "execution_count": 193,
   "metadata": {},
   "outputs": [
    {
     "data": {
      "text/plain": [
       "1"
      ]
     },
     "execution_count": 193,
     "metadata": {},
     "output_type": "execute_result"
    }
   ],
   "source": [
    "count"
   ]
  },
  {
   "cell_type": "code",
   "execution_count": 236,
   "metadata": {},
   "outputs": [],
   "source": [
    "def insert(table,input,value):\n",
    "    table[input]+=[value]"
   ]
  },
  {
   "cell_type": "code",
   "execution_count": 104,
   "metadata": {},
   "outputs": [
    {
     "data": {
      "text/plain": [
       "0"
      ]
     },
     "execution_count": 104,
     "metadata": {},
     "output_type": "execute_result"
    }
   ],
   "source": [
    "(a,b,c).index(min(a,b,c))"
   ]
  },
  {
   "cell_type": "code",
   "execution_count": 242,
   "metadata": {},
   "outputs": [],
   "source": [
    "d = [[a,b,c],[b,c,a]]"
   ]
  },
  {
   "cell_type": "code",
   "execution_count": 243,
   "metadata": {},
   "outputs": [
    {
     "data": {
      "text/plain": [
       "[[3, 4, 5], [4, 5, 3]]"
      ]
     },
     "execution_count": 243,
     "metadata": {},
     "output_type": "execute_result"
    }
   ],
   "source": [
    "d"
   ]
  },
  {
   "cell_type": "code",
   "execution_count": 133,
   "metadata": {},
   "outputs": [
    {
     "data": {
      "text/plain": [
       "[4, 5]"
      ]
     },
     "execution_count": 133,
     "metadata": {},
     "output_type": "execute_result"
    }
   ],
   "source": [
    "sorted(d)[1:]"
   ]
  },
  {
   "cell_type": "code",
   "execution_count": 141,
   "metadata": {},
   "outputs": [],
   "source": [
    "d.append(1)"
   ]
  },
  {
   "cell_type": "code",
   "execution_count": 123,
   "metadata": {},
   "outputs": [
    {
     "data": {
      "text/plain": [
       "10"
      ]
     },
     "execution_count": 123,
     "metadata": {},
     "output_type": "execute_result"
    }
   ],
   "source": [
    "int(100**(1/2))"
   ]
  },
  {
   "cell_type": "code",
   "execution_count": 156,
   "metadata": {},
   "outputs": [
    {
     "data": {
      "text/plain": [
       "[[3, 4, 5], [4, 5, 3]]"
      ]
     },
     "execution_count": 156,
     "metadata": {},
     "output_type": "execute_result"
    }
   ],
   "source": [
    "d"
   ]
  },
  {
   "cell_type": "code",
   "execution_count": 246,
   "metadata": {},
   "outputs": [],
   "source": [
    "d.sort(key=lambda x: x[0],reverse=True)"
   ]
  },
  {
   "cell_type": "code",
   "execution_count": 247,
   "metadata": {},
   "outputs": [
    {
     "data": {
      "text/plain": [
       "[[4, 5, 3], [3, 4, 5]]"
      ]
     },
     "execution_count": 247,
     "metadata": {},
     "output_type": "execute_result"
    }
   ],
   "source": [
    "d"
   ]
  },
  {
   "cell_type": "code",
   "execution_count": 169,
   "metadata": {},
   "outputs": [],
   "source": [
    "li = [None]*3"
   ]
  },
  {
   "cell_type": "code",
   "execution_count": 170,
   "metadata": {},
   "outputs": [
    {
     "data": {
      "text/plain": [
       "[None, None, None]"
      ]
     },
     "execution_count": 170,
     "metadata": {},
     "output_type": "execute_result"
    }
   ],
   "source": [
    "li"
   ]
  },
  {
   "cell_type": "code",
   "execution_count": 168,
   "metadata": {},
   "outputs": [],
   "source": [
    "li.append(1)"
   ]
  },
  {
   "cell_type": "code",
   "execution_count": 160,
   "metadata": {},
   "outputs": [],
   "source": [
    "ci = [1,2,3,4,5]"
   ]
  },
  {
   "cell_type": "code",
   "execution_count": 161,
   "metadata": {},
   "outputs": [],
   "source": [
    "li.append(ci[1:2])"
   ]
  },
  {
   "cell_type": "code",
   "execution_count": 171,
   "metadata": {},
   "outputs": [],
   "source": [
    "li[0:2] = ci[0:2]"
   ]
  },
  {
   "cell_type": "code",
   "execution_count": 174,
   "metadata": {},
   "outputs": [],
   "source": [
    "li[0] =10"
   ]
  },
  {
   "cell_type": "code",
   "execution_count": 176,
   "metadata": {},
   "outputs": [
    {
     "data": {
      "text/plain": [
       "[1, 2, 3, 4, 5]"
      ]
     },
     "execution_count": 176,
     "metadata": {},
     "output_type": "execute_result"
    }
   ],
   "source": [
    "ci"
   ]
  },
  {
   "cell_type": "code",
   "execution_count": 175,
   "metadata": {},
   "outputs": [
    {
     "data": {
      "text/plain": [
       "[10, 2, None]"
      ]
     },
     "execution_count": 175,
     "metadata": {},
     "output_type": "execute_result"
    }
   ],
   "source": [
    "li"
   ]
  },
  {
   "cell_type": "code",
   "execution_count": 227,
   "metadata": {},
   "outputs": [
    {
     "name": "stdout",
     "output_type": "stream",
     "text": [
      "true\n"
     ]
    }
   ],
   "source": [
    "if hash_table[4]:\n",
    "    print('true')"
   ]
  },
  {
   "cell_type": "code",
   "execution_count": 226,
   "metadata": {},
   "outputs": [
    {
     "data": {
      "text/plain": [
       "[[[1, 10, 10]], [[1, 10, 10]], [[1, 10, 10]]]"
      ]
     },
     "execution_count": 226,
     "metadata": {},
     "output_type": "execute_result"
    }
   ],
   "source": [
    "hash_table[4]"
   ]
  },
  {
   "cell_type": "code",
   "execution_count": 284,
   "metadata": {},
   "outputs": [
    {
     "name": "stdout",
     "output_type": "stream",
     "text": [
      "1 2 1\n"
     ]
    }
   ],
   "source": [
    "\n",
    "rect= sorted(list((map(int,input().split()))))\n",
    "\n"
   ]
  },
  {
   "cell_type": "code",
   "execution_count": 339,
   "metadata": {},
   "outputs": [
    {
     "name": "stdout",
     "output_type": "stream",
     "text": [
      "3\n",
      "1 10 10\n",
      "2 10 10\n",
      "60 40 20\n",
      "3\n"
     ]
    }
   ],
   "source": [
    "def maximum(table,key,value,n):\n",
    "    for_maxes = []\n",
    "    maximum = [0,0]\n",
    "    #print(table,'hash_table')\n",
    "    hs = key % n\n",
    "    massive = table[hs-1:hs+1]\n",
    "    #print(massive,'massive')\n",
    "    for itr in massive:\n",
    "        #print(itr,'itr')\n",
    "        #print(value,'value')\n",
    "        if itr[0:1] == value[0:1]:\n",
    "            for_maxes.append([itr[3],min(itr[1],itr[2] + value[2])])\n",
    "    if for_maxes:\n",
    "        return(max(for_maxes,key = lambda x: x[1]))\n",
    "    else:\n",
    "        return maximum\n",
    "#maxx = maximum(hash_tbl,values[0],values[1],n)\n",
    "def hash_table(n):\n",
    "    return [[] for i in range(n)]\n",
    "\n",
    "\n",
    "\n",
    "def hash_value(rects,i):\n",
    "    sort_rects = sorted(rects, reverse = True)\n",
    "    square = sort_rects[0]*sort_rects[1]\n",
    "    return [square, sort_rects + [i]]\n",
    "\n",
    "def insert(table,key,value,n):\n",
    "    square = value[0]\n",
    "    dim = value[2] #max diameter\n",
    "    #print(dim,'dim')\n",
    "    pos = False \n",
    "    hs = key%n\n",
    "    #print(hs,'hs')\n",
    "    #print(table,'hash_table')\n",
    "    a = [i for i in range(len(table[hs]))]\n",
    "    ttable = zip(a,table[hs])\n",
    "  \n",
    "    for index, item in ttable:\n",
    "        #print(index, item,' element in ttable')\n",
    "        if item[0] == square:\n",
    "            #print('gere!')\n",
    "            if item[2] < dim:\n",
    "                del table[hs][index]\n",
    "                table.append(value)\n",
    "                pos = True\n",
    "                break\n",
    "    if pos == False:\n",
    "            #print(value,'value')\n",
    "            #table[hs].append(value)\n",
    "            table[hs] = [value]\n",
    "            #print(table[hs],'table[hs]')\n",
    "    #print(table,'hash_table')\n",
    "    return 0\n",
    "#insert(hash_tbl,values[0],values[1],n) \n",
    "#values = hash_value(rects[i],i)\n",
    "\n",
    "def main() :\n",
    "    \n",
    "    diameter = 0\n",
    "    count = 0\n",
    "    \n",
    "    n = int(input())\n",
    "    rects = []\n",
    "    hash_tbl = hash_table(n)\n",
    "    for i in range(n):\n",
    "        rects.append(list((map(int,input().split()))))\n",
    "        \n",
    "        if max(rects[i]) <= diameter:\n",
    "            continue\n",
    "            \n",
    "        values = hash_value(rects[i],i)\n",
    "        maxx = maximum(hash_tbl,values[0],values[1],n)\n",
    "        if maxx[1] > diameter:\n",
    "            diameter = maxx[1]\n",
    "            count+=1\n",
    "            \n",
    "        if diameter < min(rects[i]):\n",
    "            diameter = min(rects[i])\n",
    "            count+=1\n",
    "        #print(count)\n",
    "        insert(hash_tbl,values[0],values[1],n) \n",
    "        #print(hash_tbl)\n",
    "    print (count)\n",
    "    \n",
    "    \n",
    "if __name__== \"__main__\":\n",
    "    main()"
   ]
  },
  {
   "cell_type": "markdown",
   "metadata": {},
   "source": [
    "### count"
   ]
  },
  {
   "cell_type": "code",
   "execution_count": 343,
   "metadata": {},
   "outputs": [],
   "source": [
    "import numpy as np\n",
    "import matplotlib.pyplot as plt"
   ]
  },
  {
   "cell_type": "code",
   "execution_count": 340,
   "metadata": {},
   "outputs": [],
   "source": [
    "def hashed(key,n):\n",
    "    return key % n"
   ]
  },
  {
   "cell_type": "code",
   "execution_count": 342,
   "metadata": {},
   "outputs": [],
   "source": [
    "x = np.linspace(1,10000)"
   ]
  },
  {
   "cell_type": "code",
   "execution_count": 366,
   "metadata": {},
   "outputs": [
    {
     "data": {
      "text/plain": [
       "[<matplotlib.lines.Line2D at 0x119910cd0>]"
      ]
     },
     "execution_count": 366,
     "metadata": {},
     "output_type": "execute_result"
    },
    {
     "data": {
      "image/png": "[encoded data removed]",
      "text/plain": [
       "<Figure size 432x288 with 1 Axes>"
      ]
     },
     "metadata": {
      "needs_background": "light"
     },
     "output_type": "display_data"
    }
   ],
   "source": [
    "plt.plot(x,hashed(x,3)+x%(3))"
   ]
  },
  {
   "cell_type": "code",
   "execution_count": 367,
   "metadata": {},
   "outputs": [
    {
     "data": {
      "text/plain": [
       "[<matplotlib.lines.Line2D at 0x119a37e90>]"
      ]
     },
     "execution_count": 367,
     "metadata": {},
     "output_type": "execute_result"
    },
    {
     "data": {
      "image/png": "[encoded data removed]",
      "text/plain": [
       "<Figure size 432x288 with 1 Axes>"
      ]
     },
     "metadata": {
      "needs_background": "light"
     },
     "output_type": "display_data"
    }
   ],
   "source": [
    "plt.plot(x,hashed(x,3))"
   ]
  },
  {
   "cell_type": "code",
   "execution_count": 376,
   "metadata": {},
   "outputs": [
    {
     "name": "stdout",
     "output_type": "stream",
     "text": [
      "3\n",
      "1 5 10\n",
      "50 real quare\n",
      "[50, [10, 5, 1, 0]] values\n",
      "50 values[0]\n",
      "10 square\n",
      "1 dim\n",
      "[[], [], []] table_before_noclap\n",
      "[[], [], [[10, 5, 1, 0]]] table_after_noclap\n",
      "1 diameter\n",
      "1 5 10\n",
      "50 real quare\n",
      "[50, [10, 5, 1, 1]] values\n",
      "10 square\n",
      "1 dim\n",
      "1 item[2]\n",
      "[[], [], [[10, 5, 1, 0]]] table_before_noclap\n",
      "[[], [], [[10, 5, 1, 0], [10, 5, 1, 1]]] table_after_noclap\n",
      "2 5 10\n",
      "50 real quare\n",
      "[50, [10, 5, 2, 2]] values\n",
      "10 square\n",
      "2 dim\n",
      "1 item[2]\n",
      "[[], [], [[10, 5, 1, 0], [10, 5, 1, 1]]] table_before\n",
      "[[], [], [[10, 5, 1, 0], [10, 5, 1, 1]], [10, 5, 2, 2]] table_after\n",
      "3\n"
     ]
    }
   ],
   "source": [
    "def hash_value(hashs,i):\n",
    "        sp = sorted(hashs, reverse = True)\n",
    "        square = sp[0]*sp[1]\n",
    "        print(square,'real quare')\n",
    "        return [square, sp + [i]] \n",
    "\n",
    "def maximum(table,key,value,n):\n",
    "    maximum = [0,0]\n",
    "    massive = lookup(table,key,n)\n",
    "    for itr in massive:\n",
    "        if itr[0] == value[0]:\n",
    "            return [itr[3],min(itr[1],itr[2] + value[2])]\n",
    "    return maximum\n",
    "\n",
    "def hash_table(n):\n",
    "    return [[] for i in range(n)]\n",
    "\n",
    "def hashed(key,n):\n",
    "    return key % n\n",
    "\n",
    "def insert(table,key,value,n):\n",
    "    square = value[0] \n",
    "    print(square,'square')\n",
    "    dim = value[2]\n",
    "    print(dim,'dim')\n",
    "    pos = False \n",
    "    hs = hashed(key,n)\n",
    "    \n",
    "    a = [i for i in range(len(table[hs]))]\n",
    "    ttable = zip(a,table[hs])\n",
    "    for index, item in ttable:\n",
    "        if item[0] == square:\n",
    "            print(item[2],'item[2]')\n",
    "            if item[2] < dim:\n",
    "                #delete(table,hs,index)\n",
    "                print(table,'table_before')\n",
    "                table.append(value)\n",
    "                print(table,'table_after')\n",
    "                pos = True\n",
    "                break\n",
    "    if pos == False:\n",
    "            print(table,'table_before_noclap')\n",
    "            table[hs].append(value)\n",
    "            print(table,'table_after_noclap')\n",
    "    return 0\n",
    "\n",
    "def lookup(table,key,n):\n",
    "    hs = hashed(key,n)\n",
    "    return table[hs]\n",
    "\n",
    "def delete(table,hs,index):\n",
    "    del table[hs][index]\n",
    "    return 0\n",
    "\n",
    "def main() :\n",
    "    \n",
    "    diameter = 0\n",
    "    diameter1 = 0\n",
    "    diameter2 = 0\n",
    "    count = 0\n",
    "    \n",
    "    n = int(input())\n",
    "    rects = []\n",
    "    hash_tbl = hash_table(n)\n",
    "    \n",
    "    for i in range(n):\n",
    "        rects.append(list((map(int,input().split()))))\n",
    "        \n",
    "        if max(rects[i]) <= diameter:\n",
    "            continue\n",
    "            \n",
    "        values = hash_value(rects[i],i)\n",
    "\n",
    "        maxx = maximum(hash_tbl,values[0],values[1],n)\n",
    "        if maxx[1] > diameter:\n",
    "            diameter1 = maxx[1]\n",
    "            #count+=1\n",
    "            #insert(hash_tbl,values[0],values[1],n)\n",
    "            #continue\n",
    "            \n",
    "        if diameter < min(rects[i]):\n",
    "            diameter2 = min(rects[i])\n",
    "            #count+=1\n",
    "        if max(diameter1, diameter2) > diameter:\n",
    "            diameter = max(diameter1, diameter2)\n",
    "            count+=1\n",
    "        insert(hash_tbl,values[0],values[1],n)\n",
    "    print (count)\n",
    "    \n",
    "    \n",
    "if __name__== \"__main__\":\n",
    "    main()"
   ]
  },
  {
   "cell_type": "code",
   "execution_count": null,
   "metadata": {},
   "outputs": [],
   "source": []
  }
 ],
 "metadata": {
  "kernelspec": {
   "display_name": "Python 3",
   "language": "python",
   "name": "python3"
  },
  "language_info": {
   "codemirror_mode": {
    "name": "ipython",
    "version": 3
   },
   "file_extension": ".py",
   "mimetype": "text/x-python",
   "name": "python",
   "nbconvert_exporter": "python",
   "pygments_lexer": "ipython3",
   "version": "3.7.5"
  }
 },
 "nbformat": 4,
 "nbformat_minor": 2
}
