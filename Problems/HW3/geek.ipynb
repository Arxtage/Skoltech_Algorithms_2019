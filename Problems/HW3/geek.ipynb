{
 "cells": [
  {
   "cell_type": "code",
   "execution_count": 4,
   "metadata": {},
   "outputs": [
    {
     "name": "stdout",
     "output_type": "stream",
     "text": [
      "4 cost\n",
      "[4, 4, 1, 0, 0, 0, 0, 0] dp\n",
      "1 3 4 7 8 8 "
     ]
    }
   ],
   "source": [
    "import sys \n",
    "  \n",
    "# Function to find space optimized \n",
    "# solution of Word Wrap problem. \n",
    "def solveWordWrap(arr, n, k): \n",
    "  \n",
    "    dp = [0] * n \n",
    "  \n",
    "    # Array in which ans[i] store index \n",
    "    # of last word in line starting with \n",
    "    # word arr[i]. \n",
    "    ans = [0] * n \n",
    "  \n",
    "    # If only one word is present then \n",
    "    # only one line is required. Cost \n",
    "    # of last line is zero. Hence cost \n",
    "    # of this line is zero. Ending point \n",
    "    # is also n-1 as single word is \n",
    "    # present. \n",
    "    dp[n - 1] = 0\n",
    "    ans[n - 1] = n - 1\n",
    "  \n",
    "    # Make each word first word of line \n",
    "    # by iterating over each index in arr. \n",
    "    for i in range(n - 2, -1, -1): \n",
    "        currlen = -1\n",
    "        dp[i] = sys.maxsize \n",
    "  \n",
    "        # Keep on adding words in current \n",
    "        # line by iterating from starting \n",
    "        # word upto last word in arr. \n",
    "        for j in range(i, n): \n",
    "  \n",
    "            # Update number of characters \n",
    "            # in current line. arr[j] is \n",
    "            # number of characters in \n",
    "            # current word and 1 \n",
    "            # represents space character \n",
    "            # between two words. \n",
    "            currlen += (arr[j] + 1) \n",
    "  \n",
    "            # If limit of characters \n",
    "            # is violated then no more \n",
    "            # words can be added to \n",
    "            # current line. \n",
    "            if (currlen > k): \n",
    "                break\n",
    "  \n",
    "            # If current word that is \n",
    "            # added to line is last \n",
    "            # word of arr then current \n",
    "            # line is last line. Cost of \n",
    "            # last line is 0. Else cost \n",
    "            # is square of extra spaces \n",
    "            # plus cost of putting line \n",
    "            # breaks in rest of words \n",
    "            # from j+1 to n-1. \n",
    "            if (j == n - 1): \n",
    "                cost = 0\n",
    "            else: \n",
    "                cost = ((k - currlen) * \n",
    "                        (k - currlen) + dp[j + 1]) \n",
    "  \n",
    "            # Check if this arrangement gives \n",
    "            # minimum cost for line starting \n",
    "            # with word arr[i]. \n",
    "            if (cost < dp[i]): \n",
    "                dp[i] = cost \n",
    "                ans[i] = j \n",
    "    print(cost,'cost')\n",
    "    print(dp,'dp')\n",
    "    # Print starting index and ending index \n",
    "    # of words present in each line. \n",
    "    i = 0\n",
    "    while (i < n): \n",
    "        print(i + 1 , ans[i] + 1, end = \" \") \n",
    "        i = ans[i] + 1\n",
    "  \n",
    "# Driver Code \n",
    "if __name__ == \"__main__\": \n",
    "      \n",
    "    arr = [2, 1, 3, 2, 2, 1, 2, 2 ] \n",
    "    n = len(arr) \n",
    "    M = 10\n",
    "    solveWordWrap(arr, n, M) "
   ]
  },
  {
   "cell_type": "code",
   "execution_count": null,
   "metadata": {},
   "outputs": [],
   "source": [
    "am I you to be I or to"
   ]
  }
 ],
 "metadata": {
  "kernelspec": {
   "display_name": "Python 3",
   "language": "python",
   "name": "python3"
  },
  "language_info": {
   "codemirror_mode": {
    "name": "ipython",
    "version": 3
   },
   "file_extension": ".py",
   "mimetype": "text/x-python",
   "name": "python",
   "nbconvert_exporter": "python",
   "pygments_lexer": "ipython3",
   "version": "3.7.5"
  }
 },
 "nbformat": 4,
 "nbformat_minor": 2
}
