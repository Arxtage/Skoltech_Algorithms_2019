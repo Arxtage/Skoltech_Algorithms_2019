{
 "cells": [
  {
   "cell_type": "code",
   "execution_count": 241,
   "metadata": {},
   "outputs": [
    {
     "name": "stdout",
     "output_type": "stream",
     "text": [
      "8 10\n",
      "am I you to be I or to\n"
     ]
    }
   ],
   "source": [
    "n, M = input().split()\n",
    "n = int(n)\n",
    "M = int(M)\n",
    "text = input().split()\n",
    "L =[len(word) for word in text]\n",
    "L.insert(0,None)"
   ]
  },
  {
   "cell_type": "code",
   "execution_count": 242,
   "metadata": {},
   "outputs": [
    {
     "data": {
      "text/plain": [
       "[None, 2, 1, 3, 2, 2, 1, 2, 2]"
      ]
     },
     "execution_count": 242,
     "metadata": {},
     "output_type": "execute_result"
    }
   ],
   "source": [
    "L"
   ]
  },
  {
   "cell_type": "code",
   "execution_count": 245,
   "metadata": {},
   "outputs": [
    {
     "name": "stdout",
     "output_type": "stream",
     "text": [
      "38 3\n"
     ]
    }
   ],
   "source": [
    "index = [None for i in range(n+1)]\n",
    "penalty = [0 for i in range(n+1)]\n",
    "penalty_candidate = 0\n",
    "\n",
    "for i in reversed(range(0,n)):\n",
    "\n",
    "    index_candidate = i+1\n",
    "    wordlength_sum = L[i+1]\n",
    "    penalty_candidate = (M-wordlength_sum)**2 + penalty[i+1]\n",
    "    j=i+2\n",
    "    while j <= n and j-i-1+wordlength_sum+L[j]<=M:\n",
    "\n",
    "        wordlength_sum = wordlength_sum +L[j]\n",
    "        if((M-j+i+1-wordlength_sum)**2+penalty[j]<penalty_candidate):\n",
    "            index_candidate=j\n",
    "            penalty_candidate = (M-j+i+1-wordlength_sum)**2+penalty[j]    \n",
    "        j = j+1\n",
    "    index[i] = index_candidate\n",
    "    penalty[i] = penalty_candidate\n",
    "    \n",
    "current_index = index[0]\n",
    "count=1\n",
    "while current_index<n:\n",
    "    current_index = index[current_index]\n",
    "    count+=1\n",
    "print(penalty[0],count)"
   ]
  },
  {
   "cell_type": "code",
   "execution_count": null,
   "metadata": {},
   "outputs": [],
   "source": []
  }
 ],
 "metadata": {
  "kernelspec": {
   "display_name": "Python 3",
   "language": "python",
   "name": "python3"
  },
  "language_info": {
   "codemirror_mode": {
    "name": "ipython",
    "version": 3
   },
   "file_extension": ".py",
   "mimetype": "text/x-python",
   "name": "python",
   "nbconvert_exporter": "python",
   "pygments_lexer": "ipython3",
   "version": "3.7.5"
  }
 },
 "nbformat": 4,
 "nbformat_minor": 2
}
