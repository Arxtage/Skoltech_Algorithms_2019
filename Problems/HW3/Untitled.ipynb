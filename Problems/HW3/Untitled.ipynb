{
 "cells": [
  {
   "cell_type": "code",
   "execution_count": 157,
   "metadata": {},
   "outputs": [],
   "source": [
    "import matplotlib.pyplot as plt\n",
    "%matplotlib inline"
   ]
  },
  {
   "cell_type": "code",
   "execution_count": 158,
   "metadata": {},
   "outputs": [],
   "source": [
    "# W, whose elements w_i are the length of each word in characters\n",
    "def slack_table(W,L):\n",
    "    \n",
    "    n = len(W)\n",
    "    S = [[0 for i in range(n)] for j in range(n)]\n",
    "    K = [0 for i in range(n)]\n",
    "    S[0][0] = W[1]\n",
    "    K[0] = n\n",
    "    for k in range(1,n):\n",
    "        S[0][k] = S[0][k-1]+W[k]\n",
    "    for i in range(1,n):\n",
    "        k = i\n",
    "        S[i][k] = S[0][k]-S[0][i-1]\n",
    "        while k <= n-2 and L-S[i][k]-(k-i)>0:\n",
    "            k = k+1\n",
    "            S[i][k] = S[0][k] - S[0][i-1]\n",
    "        K[i] = k\n",
    "        \n",
    "    for i in range(0,n):\n",
    "        for k in range(i, K[i]):\n",
    "            S[i][k] = L-S[i][k]-(k-i)\n",
    "            if S[i][k]<0:\n",
    "                S[i][k] = 2000\n",
    "            else:\n",
    "                S[i][k] = S[i][k]**2\n",
    "    print(K)\n",
    "    return(S)\n",
    "\n",
    "def print_neatly(W,L):\n",
    "    \n",
    "    n = len(W)\n",
    "    #print(n)\n",
    "    S = slack_table(W,L)\n",
    "    C = [0 for i in range(n+1)]\n",
    "    B = [0 for i in range(n)]\n",
    "    \n",
    "    C[0] = 0\n",
    "    for i in range(0,n):\n",
    "        C[i+1] = 2000\n",
    "        k = i\n",
    "        T = C[k]+S[k][i]\n",
    "        #print(C[i+1])\n",
    "        #print(T)\n",
    "        if T < C[i+1]:\n",
    "            C[i+1] = T\n",
    "            #print(k)\n",
    "            B[i] = k\n",
    "        while k >= 1 and T < 2000:\n",
    "            #print('Here')\n",
    "            k = k - 1\n",
    "            T = C[k]+S[k][i]\n",
    "            if T < C[i+1]:\n",
    "                C[i+1] = T\n",
    "                B[i] = k\n",
    "    F = []\n",
    "    F.append(B[-1])\n",
    "    i = B[-1] - 1\n",
    "    while i >= 0:\n",
    "        F.append(B[i])\n",
    "        i = B[i] - i\n",
    "    return(F)"
   ]
  },
  {
   "cell_type": "code",
   "execution_count": 159,
   "metadata": {},
   "outputs": [
    {
     "name": "stdout",
     "output_type": "stream",
     "text": [
      "[43, 3, 4, 6, 6, 8, 9, 10, 10, 11, 11, 13, 15, 17, 18, 18, 19, 20, 20, 21, 21, 23, 25, 26, 28, 28, 28, 30, 31, 32, 32, 34, 35, 36, 37, 38, 39, 40, 41, 42, 42, 42, 42]\n"
     ]
    },
    {
     "data": {
      "text/plain": [
       "[38, 33]"
      ]
     },
     "execution_count": 159,
     "metadata": {},
     "output_type": "execute_result"
    }
   ],
   "source": [
    "print_neatly(W = [4,2,8,4,5,4,5,4,3,4,10,6,6,2,2,5,2,2,6,3,7,10,2,8,\n",
    "                  2,2,6,1,7,1,5,4,5,1,6,3,3,3,6,4,2,3,6],L = 16)"
   ]
  },
  {
   "cell_type": "code",
   "execution_count": 160,
   "metadata": {},
   "outputs": [
    {
     "name": "stdout",
     "output_type": "stream",
     "text": [
      "[8, 4, 5, 6, 7, 7, 7, 7]\n"
     ]
    },
    {
     "data": {
      "text/plain": [
       "[4, 0]"
      ]
     },
     "execution_count": 160,
     "metadata": {},
     "output_type": "execute_result"
    }
   ],
   "source": [
    "print_neatly(W = [2,1,3,2,2,1,2,2],L = 10)"
   ]
  },
  {
   "cell_type": "code",
   "execution_count": 161,
   "metadata": {},
   "outputs": [
    {
     "name": "stdout",
     "output_type": "stream",
     "text": [
      "[6, 3, 3, 4, 5, 5]\n"
     ]
    },
    {
     "data": {
      "text/plain": [
       "[2, 0]"
      ]
     },
     "execution_count": 161,
     "metadata": {},
     "output_type": "execute_result"
    }
   ],
   "source": [
    "print_neatly(W = [2,2,2,3,2,2],L = 6)"
   ]
  },
  {
   "cell_type": "code",
   "execution_count": 162,
   "metadata": {},
   "outputs": [
    {
     "name": "stdout",
     "output_type": "stream",
     "text": [
      "[5, 4, 4, 4, 4]\n"
     ]
    },
    {
     "data": {
      "text/plain": [
       "[2, 0]"
      ]
     },
     "execution_count": 162,
     "metadata": {},
     "output_type": "execute_result"
    }
   ],
   "source": [
    "print_neatly(W = [6,9,2,3,7],L = 19)"
   ]
  },
  {
   "cell_type": "code",
   "execution_count": null,
   "metadata": {},
   "outputs": [],
   "source": []
  }
 ],
 "metadata": {
  "kernelspec": {
   "display_name": "Python 3",
   "language": "python",
   "name": "python3"
  },
  "language_info": {
   "codemirror_mode": {
    "name": "ipython",
    "version": 3
   },
   "file_extension": ".py",
   "mimetype": "text/x-python",
   "name": "python",
   "nbconvert_exporter": "python",
   "pygments_lexer": "ipython3",
   "version": "3.7.5"
  }
 },
 "nbformat": 4,
 "nbformat_minor": 2
}
