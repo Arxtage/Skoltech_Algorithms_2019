{
 "cells": [
  {
   "cell_type": "code",
   "execution_count": 75,
   "metadata": {},
   "outputs": [],
   "source": [
    "from math import ceil"
   ]
  },
  {
   "cell_type": "code",
   "execution_count": 143,
   "metadata": {},
   "outputs": [],
   "source": [
    "def print_neatly(words, n, M):\n",
    "        \"\"\"\n",
    "        Function prints a paragraph neatly\n",
    "        @param words : an array of words\n",
    "        @param n : number of words in the array\n",
    "        @param M : maximum line length\n",
    "        \"\"\"\n",
    "        minpenalty = [float('inf')]*(n+1)\n",
    "        break_points = [None]*(n+1)\n",
    "\n",
    "        # intialize base case\n",
    "        minpenalty[0] = 0\n",
    "\n",
    "        def compute_line_cost(extra_space, j, n):\n",
    "            # handle the 3 cases described in the prompt\n",
    "            if extra_space < 0:\n",
    "                return float('inf') # no extra space\n",
    "            return extra_space\n",
    "\n",
    "        for j in range(1, n+1):\n",
    "            extra_space = M\n",
    "            for i in range(j, int(max(1, j + 1 - ceil(M/2))) -1, -1):\n",
    "                extra_space = extra_space - len(words[i])\n",
    "                #print(extra_space,'extr_space')\n",
    "                space_num = \n",
    "                cur_penalty = (minpenalty[i-1] + compute_line_cost(extra_space, j, n))**2\n",
    "                print(cur_penalty,'cur')\n",
    "                if minpenalty[j] > cur_penalty:\n",
    "                    minpenalty[j] = cur_penalty\n",
    "                    \n",
    "                    #compute_line_cost(extra_space, j, n) # added\n",
    "                    #print(j)\n",
    "                    break_points[j] = i\n",
    "        print(minpenalty,'min')\n",
    "        return minpenalty, break_points\n",
    "    \n",
    "def reconstruct_lines(text, j, break_points):\n",
    "        i = break_points[j]\n",
    "        line_num = 1\n",
    "        if i != 1:\n",
    "            line_num = reconstruct_lines(text, i-1, break_points) + 1\n",
    "        print (' '.join(text[i:(j+1)]))\n",
    "        #print(line_num)\n",
    "        return line_num"
   ]
  },
  {
   "cell_type": "code",
   "execution_count": 144,
   "metadata": {},
   "outputs": [],
   "source": [
    "tests = ['Greedy algorithm is not optimal']"
   ]
  },
  {
   "cell_type": "code",
   "execution_count": 145,
   "metadata": {},
   "outputs": [
    {
     "name": "stdout",
     "output_type": "stream",
     "text": [
      "['BLANK', 'Greedy', 'algorithm', 'is', 'not', 'optimal'] me\n",
      "169 cur\n",
      "32041 cur\n",
      "16 cur\n",
      "1089 cur\n",
      "31329 cur\n",
      "4 cur\n",
      "400 cur\n",
      "900 cur\n",
      "30276 cur\n",
      "inf cur\n",
      "169744 cur\n",
      "169 cur\n",
      "529 cur\n",
      "inf cur\n",
      "inf cur\n",
      "[0, 169, 16, 4, 400, 169] min\n",
      "Greedy algorithm is\n",
      "not optimal\n"
     ]
    },
    {
     "data": {
      "text/plain": [
       "2"
      ]
     },
     "execution_count": 145,
     "metadata": {},
     "output_type": "execute_result"
    }
   ],
   "source": [
    "for test in tests:\n",
    "    test = ['BLANK'] + test.split(' ')\n",
    "print(test, 'me')\n",
    "n = len(test)-1\n",
    "M = 19\n",
    "min_p, p_list = print_neatly(test, n, M)\n",
    "reconstruct_lines(test, n, p_list)"
   ]
  },
  {
   "cell_type": "code",
   "execution_count": 142,
   "metadata": {},
   "outputs": [
    {
     "data": {
      "text/plain": [
       "[None, 1, 1, 1, 4, 4]"
      ]
     },
     "execution_count": 142,
     "metadata": {},
     "output_type": "execute_result"
    }
   ],
   "source": [
    "p_list"
   ]
  },
  {
   "cell_type": "code",
   "execution_count": null,
   "metadata": {},
   "outputs": [],
   "source": []
  }
 ],
 "metadata": {
  "kernelspec": {
   "display_name": "Python 3",
   "language": "python",
   "name": "python3"
  },
  "language_info": {
   "codemirror_mode": {
    "name": "ipython",
    "version": 3
   },
   "file_extension": ".py",
   "mimetype": "text/x-python",
   "name": "python",
   "nbconvert_exporter": "python",
   "pygments_lexer": "ipython3",
   "version": "3.7.5"
  }
 },
 "nbformat": 4,
 "nbformat_minor": 2
}
