{
 "cells": [
  {
   "cell_type": "code",
   "execution_count": 1,
   "metadata": {},
   "outputs": [
    {
     "name": "stdout",
     "output_type": "stream",
     "text": [
      "Time:  1.4904013369232416e-05\n"
     ]
    }
   ],
   "source": [
    "from heapq import heappush, heappop\n",
    "import numpy as np\n",
    "import timeit\n",
    "import copy\n",
    "start = timeit.default_timer()\n",
    "\n",
    "stop = timeit.default_timer()\n",
    "print('Time: ', stop - start)"
   ]
  },
  {
   "cell_type": "code",
   "execution_count": 600,
   "metadata": {},
   "outputs": [],
   "source": [
    "from heapq import heappush, heappop\n",
    "\n",
    "def Dijkstra_heap(graph, start, d):\n",
    "    dist = {}\n",
    "    queue = [(0, start)]\n",
    "    while queue:\n",
    "        path_len, v = heappop(queue)\n",
    "        if v not in dist:\n",
    "            if path_len <= d:\n",
    "                dist[v] = path_len\n",
    "                try:\n",
    "                    graph[v].items()\n",
    "                    if len(graph[v].items()) != 0:\n",
    "                        for w, edge_len in graph[v].items():\n",
    "                            if w not in dist:\n",
    "                                heappush(queue, (path_len + edge_len, w))\n",
    "                except: pass\n",
    "                                \n",
    "    return (dist)"
   ]
  },
  {
   "cell_type": "code",
   "execution_count": null,
   "metadata": {
    "collapsed": true
   },
   "outputs": [],
   "source": [
    "def Dijkstra(graph,start,d):\n",
    "    ver_dist = {} # to store ver-dist info\n",
    "    \n",
    "    queue = [(0,start)]\n",
    "    \n",
    "    while queue:\n",
    "        path_len, v = heappop(queue) # extract from the queue\n",
    "        try:\n",
    "            ver_dist[v]\n",
    "        except:\n",
    "            if path_len <= d:\n",
    "                ver_dist[v] = path_len\n",
    "                try:\n",
    "                    graph[v].items()\n",
    "                    if len(graph[v].items()) != 0:\n",
    "                        for w, edge_len in graph[v].items():\n",
    "                            try:\n",
    "                                ver_dist[w]\n",
    "                            except:\n",
    "                                heappush(queue, (path_len + edge_len, w))\n",
    "                except:\n",
    "                    pass\n",
    "    return ver_dist"
   ]
  },
  {
   "cell_type": "code",
   "execution_count": 24,
   "metadata": {
    "collapsed": true
   },
   "outputs": [],
   "source": [
    "def my_dijkstra_heap(G,s):\n",
    "    \n",
    "    s_index = s-1 #work with right indexing, node #1 now is #0\n",
    "    dist = []    \n",
    "    queue = [(0, s_index)]\n",
    "    \n",
    "    for i in range(len(G)):\n",
    "        dist.append(1000000001)\n",
    "    dist[s_index] = 0\n",
    "    \n",
    "    while queue:\n",
    "        path_len, u = heappop(queue)\n",
    "        for v in range(len(G[u])):\n",
    "            if G[u][v]:\n",
    "                if dist[v]>dist[u]+G[u][v]:\n",
    "                    dist[v] = dist[u]+G[u][v]\n",
    "                    heappush(queue,(dist[v], v))\n",
    "    return(dist)"
   ]
  },
  {
   "cell_type": "markdown",
   "metadata": {
    "collapsed": true
   },
   "source": [
    "# 9 October "
   ]
  },
  {
   "cell_type": "code",
   "execution_count": 28,
   "metadata": {
    "collapsed": true
   },
   "outputs": [],
   "source": [
    "def dijkstra(G,s):\n",
    "    \n",
    "    s_index = s-1 #work with right indexing, node #1 now is #0\n",
    "    queue = []\n",
    "    dist = []    \n",
    "    for i in range(len(G)):\n",
    "        queue[i] = 1000000001\n",
    "        dist.append(1000000001)\n",
    "    dist[s_index] = 0\n",
    "    queue[s_index] = 0\n",
    "    \n",
    "    while queue:\n",
    "        u = min(queue, key=queue.get)\n",
    "        queue.pop(u)\n",
    "        for v in range(len(G[u])):\n",
    "            if G[u][v]:\n",
    "                if dist[v]>dist[u]+G[u][v]:\n",
    "                    dist[v] = dist[u]+G[u][v]\n",
    "                    queue[v] = dist[v]\n",
    "    return(dist)"
   ]
  },
  {
   "cell_type": "code",
   "execution_count": 383,
   "metadata": {
    "collapsed": true
   },
   "outputs": [],
   "source": [
    "def bi_dijkstra(G,s,t,d):\n",
    "\n",
    "    s_index = s-1 #work with right indexing, node #1 now is #0\n",
    "\n",
    "    dist = []\n",
    "    queue = [(0, s_index)]\n",
    "    \n",
    "    t_index = t-1 #work with right indexing, node #1 now is #0\n",
    "    \n",
    "    queue_r = [(0, t_index)]\n",
    "    dist_r = []\n",
    "    \n",
    "    relaxes = set()\n",
    "    relaxes_r = set()\n",
    "        \n",
    "    for i in range(len(G)):\n",
    "        dist.append(1000000001)\n",
    "        dist_r.append(1000000001)\n",
    "\n",
    "    dist[s_index] = 0    \n",
    "    dist_r[t_index] = 0\n",
    "    \n",
    "    while queue and queue_r:\n",
    "        print('queue',queue)\n",
    "\n",
    "\n",
    "        path_len, u = heappop(queue)\n",
    "        path_len_r, u_r = heappop(queue_r)\n",
    "        \n",
    "        if path_len > d and path_len_r > d:\n",
    "            break\n",
    "        relaxes.add(u)\n",
    "        relaxes_r.add(u_r)\n",
    "        print('relaxes',relaxes)\n",
    "        print('relaxes_r',relaxes_r)\n",
    "                \n",
    "        if (relaxes & relaxes_r):\n",
    "            for i in relaxes & relaxes_r:\n",
    "                print('res dist',dist[i]+dist_r[i])\n",
    "                if(dist[i]+dist_r[i]<=d):\n",
    "                    return(dist[i]+dist_r[i])\n",
    "        \n",
    "        for v in range(len(G[u])):\n",
    "            if G[u][v]:\n",
    "                if dist[v]>dist[u]+G[u][v]:\n",
    "                    dist[v] = dist[u]+G[u][v]\n",
    "                    heappush(queue,(dist[v], v))\n",
    "                    \n",
    "        for v_r in range(len(G[u_r])):\n",
    "            if G[v_r][u_r]:\n",
    "                if dist_r[v_r]>dist_r[u_r]+G[v_r][u_r]:\n",
    "                    dist_r[v_r] = dist_r[u_r]+G[v_r][u_r] \n",
    "                    heappush(queue_r,(dist_r[v_r], v_r))\n",
    "    return(False)"
   ]
  },
  {
   "cell_type": "code",
   "execution_count": 29,
   "metadata": {
    "collapsed": true
   },
   "outputs": [],
   "source": [
    "inp1 = '''4 3\n",
    "1 2 1\n",
    "2 3 1\n",
    "3 4 1\n",
    "1 4 2'''\n",
    "\n",
    "inp2 ='''8 6\n",
    "1 2 3\n",
    "1 3 4\n",
    "1 4 5\n",
    "5 8 3\n",
    "6 8 4\n",
    "7 8 5\n",
    "1 8 9'''\n",
    "\n",
    "inp3='''4 3\n",
    "1 2 1\n",
    "2 3 1\n",
    "3 4 1\n",
    "1 4 5'''"
   ]
  },
  {
   "cell_type": "code",
   "execution_count": null,
   "metadata": {
    "collapsed": true
   },
   "outputs": [],
   "source": [
    "inp = input().split()\n",
    " \n",
    "graph = [[0 for x in range(int(inp[0]))] for y in range(int(inp[0]))] \n",
    "graph_r = [[0 for x in range(int(inp[0]))] for y in range(int(inp[0]))] \n",
    " \n",
    "for i in range(int(inp[1])):\n",
    "    line = input().split()\n",
    "    graph[int(line[0])-1][int(line[1])-1] = int(line[2]) #-1 bcs count from 0 in array, while vertices from 1 \n",
    "    graph_r[int(line[1])-1][int(line[0])-1] = int(line[2])\n",
    "s, t, d = input().split()\n",
    "s = int(s)\n",
    "t = int(t)\n",
    "d = int(d)"
   ]
  },
  {
   "cell_type": "code",
   "execution_count": 385,
   "metadata": {},
   "outputs": [
    {
     "name": "stdout",
     "output_type": "stream",
     "text": [
      "4 3 \n",
      "1 2 1\n",
      "2 3 1\n",
      "3 4 1\n",
      "1 4 5\n",
      "Time:  8.190031803998863\n"
     ]
    }
   ],
   "source": [
    "### можно сразу записывать в G и G_reversed\n",
    "start = timeit.default_timer()\n",
    "\n",
    "inp = input().split()\n",
    "#inp = inp1\n",
    "\n",
    "graph = [[0 for x in range(int(inp[0]))] for y in range(int(inp[0]))] \n",
    "\n",
    "for i in range(int(inp[1])):\n",
    "    line = input().split()\n",
    "    graph[int(line[0])-1][int(line[1])-1] = int(line[2]) #-1 bcs count from 0 in array, while vertices from 1 \n",
    "s, t, d = input().split()\n",
    "s = int(s)\n",
    "t = int(t)\n",
    "d = int(d)\n",
    "stop = timeit.default_timer()\n",
    "print('Time: ', stop - start)"
   ]
  },
  {
   "cell_type": "markdown",
   "metadata": {},
   "source": [
    "# Bi_Dijkstra2"
   ]
  },
  {
   "cell_type": "code",
   "execution_count": 352,
   "metadata": {},
   "outputs": [
    {
     "name": "stdout",
     "output_type": "stream",
     "text": [
      "НУ ТУТ 12\n",
      "6\n"
     ]
    }
   ],
   "source": [
    "count = 0\n",
    "result = 0\n",
    "s_dijkstra = my_dijkstra_heap(graph,s)\n",
    "t_dijkstra = my_dijkstra_heap(list(map(list, zip(*graph))),t)\n",
    "\n",
    "if s_dijkstra[t-1]<=d:\n",
    "    print('НУ ТУТ',len(graph)**2 - len(graph))\n",
    "s_indexes =set()\n",
    "t_indexes =set()\n",
    "\n",
    "for ind, dis in enumerate(s_dijkstra):\n",
    "    if dis <= d or dis == 1000000001:\n",
    "        s_indexes.add(ind)\n",
    "\n",
    "for ind, dis in enumerate(t_dijkstra):\n",
    "    if dis <= d or dis == 1000000001:\n",
    "        t_indexes.add(ind)\n",
    "        \n",
    "for i in s_indexes:\n",
    "    for j in t_indexes:\n",
    "        if i == j:\n",
    "            continue\n",
    "        if s_dijkstra[j]>=s_dijkstra[i]+1:\n",
    "            gr = copy.deepcopy(graph)\n",
    "            gr[i][j] =1\n",
    "            result = bi_dijkstra(gr,s,t,d)\n",
    "            if (result):\n",
    "                count +=1\n",
    "print(count)"
   ]
  },
  {
   "cell_type": "code",
   "execution_count": 444,
   "metadata": {},
   "outputs": [],
   "source": [
    "graph = {1:{2:1}, 2:{3:1}, 3:{4:1}, 4:{}}"
   ]
  },
  {
   "cell_type": "code",
   "execution_count": 487,
   "metadata": {},
   "outputs": [
    {
     "data": {
      "text/plain": [
       "{1: 0, 2: 1, 3: 2, 4: 3}"
      ]
     },
     "execution_count": 487,
     "metadata": {},
     "output_type": "execute_result"
    }
   ],
   "source": [
    "Dijkstra_heap(graph,s,d)"
   ]
  },
  {
   "cell_type": "code",
   "execution_count": 539,
   "metadata": {},
   "outputs": [
    {
     "data": {
      "text/plain": [
       "()"
      ]
     },
     "execution_count": 539,
     "metadata": {},
     "output_type": "execute_result"
    }
   ],
   "source": [
    "tuple(graph.keys())"
   ]
  },
  {
   "cell_type": "code",
   "execution_count": 570,
   "metadata": {},
   "outputs": [
    {
     "name": "stdout",
     "output_type": "stream",
     "text": [
      "4 3 \n",
      "1 2 1\n",
      "2 3 1\n",
      "3 4 1\n",
      "1 4 2\n"
     ]
    }
   ],
   "source": [
    "graph = {}\n",
    "graph_r = {}\n",
    "vertices = set()\n",
    "inp = input().split()\n",
    "\n",
    "for i in range(int(inp[1])):\n",
    "    line = input().split()\n",
    "    if int(line[0]) in graph:\n",
    "        # append the new number to the existing array at this slot\n",
    "        graph[int(line[0])].update({int(line[1]):int(line[2])})\n",
    "    else:\n",
    "        # create a new array in this slot\n",
    "        graph[int(line[0])] = {int(line[1]):int(line[2])}\n",
    "        \n",
    "    if int(line[1]) in graph_r:\n",
    "        # append the new number to the existing array at this slot\n",
    "        graph_r[int(line[1])].update({int(line[0]):int(line[2])})\n",
    "    else:\n",
    "        # create a new array in this slot\n",
    "        graph_r[int(line[1])] = {int(line[0]):int(line[2])}\n",
    "    \n",
    "    \n",
    "    vertices.add(int(line[0]))\n",
    "    vertices.add(int(line[1]))\n",
    "\n",
    "for i in vertices:\n",
    "    try:\n",
    "        graph[i]\n",
    "    except:\n",
    "        graph[i] = {}\n",
    "    \n",
    "    try:\n",
    "        graph_r[i]\n",
    "    except:\n",
    "        graph_r[i] = {}\n",
    "\n",
    "s, t, d = input().split()\n",
    "s = int(s)\n",
    "t = int(t)\n",
    "d = int(d)"
   ]
  },
  {
   "cell_type": "code",
   "execution_count": 571,
   "metadata": {},
   "outputs": [
    {
     "data": {
      "text/plain": [
       "[0, 1, 2, 3]"
      ]
     },
     "execution_count": 571,
     "metadata": {},
     "output_type": "execute_result"
    }
   ],
   "source": [
    "list(dists.values())"
   ]
  },
  {
   "cell_type": "code",
   "execution_count": 601,
   "metadata": {},
   "outputs": [
    {
     "name": "stdout",
     "output_type": "stream",
     "text": [
      "j 2\n",
      "3\n"
     ]
    }
   ],
   "source": [
    "count = 0\n",
    "\n",
    "s_dijkstra = Dijkstra_heap(graph,s,d)\n",
    "try:\n",
    "    res = s_dijkstra[t]\n",
    "    print(int(inp[0])**2 - int(inp[0]))\n",
    "except:\n",
    "    t_dijkstra = Dijkstra_heap(graph_r,t,d)\n",
    "    s_dists = list(s_dijkstra.values())\n",
    "    t_dists = list(t_dijkstra.values())\n",
    "    j = len(b) - 1\n",
    "    print('j',j)\n",
    "    for i in range(len(s_dists)):\n",
    "        while j >= 0 and s_dists[i] + t_dists[j] + 1 > d:\n",
    "            j = j - 1\n",
    "        count += j+1\n",
    "    print(count)"
   ]
  },
  {
   "cell_type": "code",
   "execution_count": 586,
   "metadata": {},
   "outputs": [
    {
     "data": {
      "text/plain": [
       "{1: 0, 2: 1, 3: 2}"
      ]
     },
     "execution_count": 586,
     "metadata": {},
     "output_type": "execute_result"
    }
   ],
   "source": [
    "s_dijkstra"
   ]
  },
  {
   "cell_type": "code",
   "execution_count": null,
   "metadata": {
    "collapsed": true
   },
   "outputs": [],
   "source": []
  }
 ],
 "metadata": {
  "kernelspec": {
   "display_name": "Python 3",
   "language": "python",
   "name": "python3"
  },
  "language_info": {
   "codemirror_mode": {
    "name": "ipython",
    "version": 3
   },
   "file_extension": ".py",
   "mimetype": "text/x-python",
   "name": "python",
   "nbconvert_exporter": "python",
   "pygments_lexer": "ipython3",
   "version": "3.7.5"
  }
 },
 "nbformat": 4,
 "nbformat_minor": 2
}
