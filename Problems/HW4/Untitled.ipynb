{
 "cells": [
  {
   "cell_type": "code",
   "execution_count": 95,
   "metadata": {},
   "outputs": [
    {
     "data": {
      "text/plain": [
       "'# Read variables from stdin\\nma, mi, d, th = map(int, input().split())\\nm, n = map(int, input().split())\\np = input()\\n\\napproxMatching = LocalAlign(ma, mi, d, th, m, n)\\napproxMatching.align(p)'"
      ]
     },
     "execution_count": 95,
     "metadata": {},
     "output_type": "execute_result"
    }
   ],
   "source": [
    "import sys\n",
    "\n",
    "class LocalAlign():\n",
    "    def __init__(self, match, mismatch, indel, th, m, n):\n",
    "        self.match = match\n",
    "        self.mismatch = mismatch\n",
    "        self.indel = indel\n",
    "        self.th = th\n",
    "\n",
    "        self.m = m\n",
    "        self.n = n\n",
    "\n",
    "    def align(self, p):\n",
    "        # Initialization of pattern array score\n",
    "        score = [k*self.indel for k in range(0, self.m + 1)]\n",
    "        \n",
    "        dprev = 0  # s(i-1, j-1)\n",
    "        iprev = 0  # s(i-1, j)\n",
    "        jprev = 0  # s(i, j-1)\n",
    "\n",
    "        # Compute score alignment for all position of the sequence\n",
    "        for j in range(1, self.n + 1):\n",
    "            s = sys.stdin.read(1) # reading of sequence and comparison on the fly\n",
    "            dprev = 0\n",
    "            for i in range(1, self.m + 1):\n",
    "                iprev = score[i-1]\n",
    "                jprev = score[i]\n",
    "\n",
    "                # current score\n",
    "                currd = max(dprev + (self.match if s == p[i-1] else self.mismatch),\n",
    "                            jprev + self.indel,\n",
    "                            iprev + self.indel)\n",
    "\n",
    "                dprev = score[i]\n",
    "                score[i] = currd\n",
    "                \n",
    "                if i == self.m:\n",
    "                    #print('last:',i)\n",
    "                    if score[i] >= self.th:\n",
    "                        print(j, score[i])\n",
    "                    \n",
    "\n",
    "\"\"\"# Read variables from stdin\n",
    "ma, mi, d, th = map(int, input().split())\n",
    "m, n = map(int, input().split())\n",
    "p = input()\n",
    "\n",
    "approxMatching = LocalAlign(ma, mi, d, th, m, n)\n",
    "approxMatching.align(p)\"\"\""
   ]
  },
  {
   "cell_type": "code",
   "execution_count": 99,
   "metadata": {},
   "outputs": [],
   "source": [
    "def matching(match, mismatch, indel, thr, m, n, p):\n",
    "    score = [k*indel for k in range(0, m + 1)]\n",
    "\n",
    "    for j in range(1, n + 1):\n",
    "        s = sys.stdin.read(1) \n",
    "        d0 = 0\n",
    "        \n",
    "        for i in range(1, m + 1):\n",
    "            i0 = score[i-1]\n",
    "            j0 = score[i]\n",
    "            val = max(d0 + (match if s == p[i-1] else mismatch),\n",
    "                        j0 + indel,\n",
    "                        i0 + indel)\n",
    "\n",
    "            d0 = score[i]\n",
    "            score[i] = val\n",
    "                \n",
    "            if i == m:\n",
    "                if score[i] >= thr:\n",
    "                    print(j, score[i])"
   ]
  },
  {
   "cell_type": "code",
   "execution_count": 100,
   "metadata": {},
   "outputs": [
    {
     "name": "stdout",
     "output_type": "stream",
     "text": [
      "2 -1 -1 1\n",
      "2 10\n",
      "AC\n"
     ]
    }
   ],
   "source": [
    "ma, mi, d, th = map(int, input().split())\n",
    "m, n = map(int, input().split())\n",
    "p = input()"
   ]
  },
  {
   "cell_type": "code",
   "execution_count": 101,
   "metadata": {},
   "outputs": [],
   "source": [
    "matching(ma, mi, d, th,m, n,p)"
   ]
  },
  {
   "cell_type": "code",
   "execution_count": 102,
   "metadata": {},
   "outputs": [],
   "source": [
    "import numpy as np"
   ]
  },
  {
   "cell_type": "code",
   "execution_count": 107,
   "metadata": {},
   "outputs": [
    {
     "ename": "NameError",
     "evalue": "name 'self' is not defined",
     "output_type": "error",
     "traceback": [
      "\u001b[0;31m---------------------------------------------------------------------------\u001b[0m",
      "\u001b[0;31mNameError\u001b[0m                                 Traceback (most recent call last)",
      "\u001b[0;32m<ipython-input-107-db35582de820>\u001b[0m in \u001b[0;36m<module>\u001b[0;34m\u001b[0m\n\u001b[0;32m----> 1\u001b[0;31m \u001b[0;32mfor\u001b[0m \u001b[0mi\u001b[0m \u001b[0;32min\u001b[0m \u001b[0mmap\u001b[0m\u001b[0;34m(\u001b[0m\u001b[0mself\u001b[0m\u001b[0;34m**\u001b[0m\u001b[0;36m2\u001b[0m\u001b[0;34m,\u001b[0m\u001b[0;34m[\u001b[0m\u001b[0;36m1\u001b[0m\u001b[0;34m,\u001b[0m\u001b[0;36m2\u001b[0m\u001b[0;34m,\u001b[0m\u001b[0;36m3\u001b[0m\u001b[0;34m,\u001b[0m\u001b[0;36m4\u001b[0m\u001b[0;34m,\u001b[0m\u001b[0;36m5\u001b[0m\u001b[0;34m]\u001b[0m\u001b[0;34m)\u001b[0m\u001b[0;34m:\u001b[0m\u001b[0;34m\u001b[0m\u001b[0;34m\u001b[0m\u001b[0m\n\u001b[0m\u001b[1;32m      2\u001b[0m         \u001b[0mprint\u001b[0m\u001b[0;34m(\u001b[0m\u001b[0mi\u001b[0m\u001b[0;34m)\u001b[0m\u001b[0;34m\u001b[0m\u001b[0;34m\u001b[0m\u001b[0m\n",
      "\u001b[0;31mNameError\u001b[0m: name 'self' is not defined"
     ]
    }
   ],
   "source": [
    "for i in map(**2,[1,2,3,4,5]):\n",
    "        print(i)"
   ]
  },
  {
   "cell_type": "code",
   "execution_count": null,
   "metadata": {},
   "outputs": [],
   "source": []
  }
 ],
 "metadata": {
  "kernelspec": {
   "display_name": "Python 3",
   "language": "python",
   "name": "python3"
  },
  "language_info": {
   "codemirror_mode": {
    "name": "ipython",
    "version": 3
   },
   "file_extension": ".py",
   "mimetype": "text/x-python",
   "name": "python",
   "nbconvert_exporter": "python",
   "pygments_lexer": "ipython3",
   "version": "3.7.5"
  }
 },
 "nbformat": 4,
 "nbformat_minor": 2
}
